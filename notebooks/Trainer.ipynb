{
 "cells": [
  {
   "cell_type": "code",
   "execution_count": 1,
   "metadata": {
    "ExecuteTime": {
     "end_time": "2020-05-10T21:51:59.775582Z",
     "start_time": "2020-05-10T21:51:59.767679Z"
    }
   },
   "outputs": [],
   "source": [
    "if not \"wdSet\" in globals():\n",
    "    %cd -q ..\n",
    "    wdSet = True"
   ]
  },
  {
   "cell_type": "code",
   "execution_count": 2,
   "metadata": {
    "ExecuteTime": {
     "end_time": "2020-05-10T21:52:00.681049Z",
     "start_time": "2020-05-10T21:51:59.777863Z"
    }
   },
   "outputs": [],
   "source": [
    "%reload_ext autoreload\n",
    "%autoreload 2\n",
    "%matplotlib inline"
   ]
  },
  {
   "cell_type": "code",
   "execution_count": 3,
   "metadata": {
    "ExecuteTime": {
     "end_time": "2020-05-10T21:52:00.705053Z",
     "start_time": "2020-05-10T21:52:00.683548Z"
    }
   },
   "outputs": [],
   "source": [
    "import matplotlib.pylab as plt"
   ]
  },
  {
   "cell_type": "code",
   "execution_count": 4,
   "metadata": {
    "ExecuteTime": {
     "end_time": "2020-05-10T21:52:00.776669Z",
     "start_time": "2020-05-10T21:52:00.707225Z"
    }
   },
   "outputs": [
    {
     "data": {
      "text/plain": [
       "ENGINE:\n",
       "  NAME: LightningNet\n",
       "  OPTIMIZER:\n",
       "    NAME: torch.optim.AdamW\n",
       "    ARGS:\n",
       "      weight_decay: 0.01\n",
       "  SCHEDULER:\n",
       "    NAME: torch.optim.lr_scheduler.OneCycleLR\n",
       "    ARGS:\n",
       "      max_lr: 0.005\n",
       "      total_steps: 60000\n",
       "MODEL:\n",
       "  META_ARCHITECTURE: GSCNN\n",
       "  ARGS:\n",
       "    num_classes: 2\n",
       "DATA:\n",
       "  DATASET:\n",
       "    IMAGE_DIR: data/train/AOI_11_Rotterdam/PS-RGB\n",
       "    SAR_DIR: data/train/AOI_11_Rotterdam/SAR-Intensity\n",
       "    CSV_FILE: data/train/AOI_11_Rotterdam/SummaryData/SN6_Train_AOI_11_Rotterdam_Buildings.csv\n",
       "    IMAGE_SHAPE: [224, 224]\n",
       "    IS_TRAIN: True\n",
       "    VALIDATION_RATIO: 0.1\n",
       "  DATA_LOADER:\n",
       "    BATCH_SIZE: 32\n",
       "    NAME: SpaceNetDatalaoder\n",
       "    NUM_WORKERS: 8\n",
       "    PIN_MEMORY: True\n",
       "OUTPUT_DIR: outputs"
      ]
     },
     "execution_count": 4,
     "metadata": {},
     "output_type": "execute_result"
    }
   ],
   "source": [
    "import pydoc\n",
    "from core.config import cfg\n",
    "\n",
    "import yaml\n",
    "from core.config import DotMap\n",
    "with open(\"core/config/base.yaml\") as fh:\n",
    "    cfg_dict = yaml.unsafe_load(fh)\n",
    "cfg = DotMap(cfg_dict)\n",
    "\n",
    "cfg"
   ]
  },
  {
   "cell_type": "code",
   "execution_count": 5,
   "metadata": {
    "ExecuteTime": {
     "end_time": "2020-05-10T21:52:00.799691Z",
     "start_time": "2020-05-10T21:52:00.778728Z"
    }
   },
   "outputs": [],
   "source": [
    "# parser = argparse.ArgumentParser(description='GSCNN')\n",
    "# parser.add_argument('--lr', type=float, default=0.01)\n",
    "# parser.add_argument('--arch', type=str, default='network.gscnn.GSCNN')\n",
    "# parser.add_argument('--dataset', type=str, default='cityscapes')\n",
    "# parser.add_argument('--cv', type=int, default=0,\n",
    "#                     help='cross validation split')\n",
    "# parser.add_argument('--joint_edgeseg_loss', action='store_true', default=True,\n",
    "#                     help='joint loss')\n",
    "# parser.add_argument('--img_wt_loss', action='store_true', default=False,\n",
    "#                     help='per-image class-weighted loss')\n",
    "# parser.add_argument('--batch_weighting', action='store_true', default=False,\n",
    "#                     help='Batch weighting for class')\n",
    "# parser.add_argument('--eval_thresholds', type=str, default='0.0005,0.001875,0.00375,0.005',\n",
    "#                     help='Thresholds for boundary evaluation')\n",
    "# parser.add_argument('--rescale', type=float, default=1.0,\n",
    "#                     help='Rescaled LR Rate')\n",
    "# parser.add_argument('--repoly', type=float, default=1.5,\n",
    "#                     help='Rescaled Poly')\n",
    "\n",
    "# parser.add_argument('--edge_weight', type=float, default=1.0,\n",
    "#                     help='Edge loss weight for joint loss')\n",
    "# parser.add_argument('--seg_weight', type=float, default=1.0,\n",
    "#                     help='Segmentation loss weight for joint loss')\n",
    "# parser.add_argument('--att_weight', type=float, default=1.0,\n",
    "#                     help='Attention loss weight for joint loss')\n",
    "# parser.add_argument('--dual_weight', type=float, default=1.0,\n",
    "#                     help='Dual loss weight for joint loss')\n",
    "\n",
    "# parser.add_argument('--evaluate', action='store_true', default=False)\n",
    "\n",
    "# parser.add_argument(\"--local_rank\", default=0, type=int)\n",
    "\n",
    "# parser.add_argument('--sgd', action='store_true', default=True)\n",
    "# parser.add_argument('--sgd_finetuned',action='store_true',default=False)\n",
    "# parser.add_argument('--adam', action='store_true', default=False)\n",
    "# parser.add_argument('--amsgrad', action='store_true', default=False)\n",
    "\n",
    "# parser.add_argument('--trunk', type=str, default='resnet101',\n",
    "#                     help='trunk model, can be: resnet101 (default), resnet50')\n",
    "# parser.add_argument('--max_epoch', type=int, default=175)\n",
    "# parser.add_argument('--start_epoch', type=int, default=0)\n",
    "# parser.add_argument('--color_aug', type=float,\n",
    "#                     default=0.25, help='level of color augmentation')\n",
    "# parser.add_argument('--rotate', type=float,\n",
    "#                     default=0, help='rotation')\n",
    "# parser.add_argument('--gblur', action='store_true', default=True)\n",
    "# parser.add_argument('--bblur', action='store_true', default=False) \n",
    "# parser.add_argument('--lr_schedule', type=str, default='poly',\n",
    "#                     help='name of lr schedule: poly')\n",
    "# parser.add_argument('--poly_exp', type=float, default=1.0,\n",
    "#                     help='polynomial LR exponent')\n",
    "# parser.add_argument('--bs_mult', type=int, default=1)\n",
    "# parser.add_argument('--bs_mult_val', type=int, default=2)\n",
    "# parser.add_argument('--crop_size', type=int, default=720,\n",
    "#                     help='training crop size')\n",
    "# parser.add_argument('--pre_size', type=int, default=None,\n",
    "#                     help='resize image shorter edge to this before augmentation')\n",
    "# parser.add_argument('--scale_min', type=float, default=0.5,\n",
    "#                     help='dynamically scale training images down to this size')\n",
    "# parser.add_argument('--scale_max', type=float, default=2.0,\n",
    "#                     help='dynamically scale training images up to this size')\n",
    "# parser.add_argument('--weight_decay', type=float, default=1e-4)\n",
    "# parser.add_argument('--momentum', type=float, default=0.9)\n",
    "# parser.add_argument('--snapshot', type=str, default=None)\n",
    "# parser.add_argument('--restore_optimizer', action='store_true', default=False)\n",
    "# parser.add_argument('--exp', type=str, default='default',\n",
    "#                     help='experiment directory name')\n",
    "# parser.add_argument('--tb_tag', type=str, default='',\n",
    "#                     help='add tag to tb dir')\n",
    "# parser.add_argument('--ckpt', type=str, default='logs/ckpt')\n",
    "# parser.add_argument('--tb_path', type=str, default='logs/tb')\n",
    "# parser.add_argument('--syncbn', action='store_true', default=False,\n",
    "#                     help='Synchronized BN')\n",
    "# parser.add_argument('--dump_augmentation_images', action='store_true', default=False,\n",
    "#                     help='Synchronized BN')\n",
    "# parser.add_argument('--test_mode', action='store_true', default=False,\n",
    "#                     help='minimum testing (1 epoch run ) to verify nothing failed')\n",
    "# parser.add_argument('-wb', '--wt_bound', type=float, default=1.0)\n",
    "# parser.add_argument('--maxSkip', type=int, default=0)\n",
    "# args = parser.parse_args()\n",
    "# args.best_record = {'epoch': -1, 'iter': 0, 'val_loss': 1e10, 'acc': 0,\n",
    "#                         'acc_cls': 0, 'mean_iu': 0, 'fwavacc': 0}\n"
   ]
  },
  {
   "cell_type": "code",
   "execution_count": 6,
   "metadata": {
    "ExecuteTime": {
     "end_time": "2020-05-10T21:52:00.821583Z",
     "start_time": "2020-05-10T21:52:00.801768Z"
    }
   },
   "outputs": [],
   "source": [
    "# arch = 'network.gscnn.GSCNN'\n",
    "# num_classes = 2\n",
    "# joint_edgeseg_loss = True\n",
    "# eval_thresholds = '0.0005,0.001875,0.00375,0.005'\n",
    "# edge_weight = 1.0\n",
    "# seg_weight = 1.0\n",
    "# att_weight = 1.0\n",
    "# dual_weight = 1.0\n",
    "# trunk = 'resnet101'\n",
    "# ignore_label = 255\n",
    "# syncbn = False\n",
    "# wt_bound = 1.0\n",
    "\n"
   ]
  },
  {
   "cell_type": "code",
   "execution_count": 6,
   "metadata": {},
   "outputs": [
    {
     "name": "stdout",
     "output_type": "stream",
     "text": [
      "/Users/shimash\n"
     ]
    }
   ],
   "source": [
    "cd .."
   ]
  },
  {
   "cell_type": "code",
   "execution_count": 7,
   "metadata": {
    "ExecuteTime": {
     "end_time": "2020-05-10T21:52:16.207148Z",
     "start_time": "2020-05-10T21:52:00.823837Z"
    }
   },
   "outputs": [],
   "source": [
    "dataloaders = pydoc.locate(\n",
    "    \"core.data.dataloaders.\" + cfg.DATA.DATA_LOADER.NAME\n",
    ")(cfg.DATA)"
   ]
  },
  {
   "cell_type": "code",
   "execution_count": 16,
   "metadata": {},
   "outputs": [
    {
     "data": {
      "text/plain": [
       "<torch.utils.data.dataloader.DataLoader at 0x135087e10>"
      ]
     },
     "execution_count": 16,
     "metadata": {},
     "output_type": "execute_result"
    }
   ],
   "source": [
    "dataloaders['train']"
   ]
  },
  {
   "cell_type": "code",
   "execution_count": 17,
   "metadata": {
    "ExecuteTime": {
     "end_time": "2020-05-10T21:52:17.653784Z",
     "start_time": "2020-05-10T21:52:16.209151Z"
    }
   },
   "outputs": [],
   "source": [
    "model = pydoc.locate(\"core.models.\" + cfg.MODEL.META_ARCHITECTURE)(**cfg.MODEL.ARGS)"
   ]
  },
  {
   "cell_type": "code",
   "execution_count": null,
   "metadata": {
    "ExecuteTime": {
     "end_time": "2020-05-10T21:52:17.701454Z",
     "start_time": "2020-05-10T21:52:17.657247Z"
    }
   },
   "outputs": [],
   "source": [
    "# len(dataloaders[\"train\"]), len(dataloaders[\"val\"])"
   ]
  },
  {
   "cell_type": "code",
   "execution_count": 18,
   "metadata": {
    "ExecuteTime": {
     "end_time": "2020-05-10T21:55:51.766261Z",
     "start_time": "2020-05-10T21:55:50.998994Z"
    }
   },
   "outputs": [
    {
     "ename": "IndexError",
     "evalue": "Caught IndexError in DataLoader worker process 0.\nOriginal Traceback (most recent call last):\n  File \"/usr/local/lib/python3.7/site-packages/torch/utils/data/_utils/worker.py\", line 178, in _worker_loop\n    data = fetcher.fetch(index)\n  File \"/usr/local/lib/python3.7/site-packages/torch/utils/data/_utils/fetch.py\", line 44, in fetch\n    data = [self.dataset[idx] for idx in possibly_batched_index]\n  File \"/usr/local/lib/python3.7/site-packages/torch/utils/data/_utils/fetch.py\", line 44, in <listcomp>\n    data = [self.dataset[idx] for idx in possibly_batched_index]\n  File \"/usr/local/lib/python3.7/site-packages/torch/utils/data/dataset.py\", line 257, in __getitem__\n    return self.dataset[self.indices[idx]]\n  File \"/Users/shimash/experiments/core/data/datasets/sn6.py\", line 59, in __getitem__\n    mask = self.get_mask(idx)\n  File \"/Users/shimash/experiments/core/data/datasets/sn6.py\", line 100, in get_mask\n    self.mask_list[idx][1], self.mask_list[idx][2]\n  File \"/Users/shimash/experiments/core/data/datasets/sn6.py\", line 111, in generate_mask\n    tup = (float(expression[0]), float(expression[1]))\nIndexError: list index out of range\n",
     "output_type": "error",
     "traceback": [
      "\u001b[0;31m---------------------------------------------------------------------------\u001b[0m",
      "\u001b[0;31mIndexError\u001b[0m                                Traceback (most recent call last)",
      "\u001b[0;32m<ipython-input-18-94a8f5afe9a6>\u001b[0m in \u001b[0;36m<module>\u001b[0;34m\u001b[0m\n\u001b[1;32m      1\u001b[0m \u001b[0miterator\u001b[0m \u001b[0;34m=\u001b[0m \u001b[0miter\u001b[0m\u001b[0;34m(\u001b[0m\u001b[0mdataloaders\u001b[0m\u001b[0;34m[\u001b[0m\u001b[0;34m\"train\"\u001b[0m\u001b[0;34m]\u001b[0m\u001b[0;34m)\u001b[0m\u001b[0;34m\u001b[0m\u001b[0;34m\u001b[0m\u001b[0m\n\u001b[0;32m----> 2\u001b[0;31m \u001b[0mX\u001b[0m\u001b[0;34m,\u001b[0m \u001b[0my\u001b[0m \u001b[0;34m=\u001b[0m \u001b[0mnext\u001b[0m\u001b[0;34m(\u001b[0m\u001b[0miterator\u001b[0m\u001b[0;34m)\u001b[0m\u001b[0;34m\u001b[0m\u001b[0;34m\u001b[0m\u001b[0m\n\u001b[0m",
      "\u001b[0;32m/usr/local/lib/python3.7/site-packages/torch/utils/data/dataloader.py\u001b[0m in \u001b[0;36m__next__\u001b[0;34m(self)\u001b[0m\n\u001b[1;32m    343\u001b[0m \u001b[0;34m\u001b[0m\u001b[0m\n\u001b[1;32m    344\u001b[0m     \u001b[0;32mdef\u001b[0m \u001b[0m__next__\u001b[0m\u001b[0;34m(\u001b[0m\u001b[0mself\u001b[0m\u001b[0;34m)\u001b[0m\u001b[0;34m:\u001b[0m\u001b[0;34m\u001b[0m\u001b[0;34m\u001b[0m\u001b[0m\n\u001b[0;32m--> 345\u001b[0;31m         \u001b[0mdata\u001b[0m \u001b[0;34m=\u001b[0m \u001b[0mself\u001b[0m\u001b[0;34m.\u001b[0m\u001b[0m_next_data\u001b[0m\u001b[0;34m(\u001b[0m\u001b[0;34m)\u001b[0m\u001b[0;34m\u001b[0m\u001b[0;34m\u001b[0m\u001b[0m\n\u001b[0m\u001b[1;32m    346\u001b[0m         \u001b[0mself\u001b[0m\u001b[0;34m.\u001b[0m\u001b[0m_num_yielded\u001b[0m \u001b[0;34m+=\u001b[0m \u001b[0;36m1\u001b[0m\u001b[0;34m\u001b[0m\u001b[0;34m\u001b[0m\u001b[0m\n\u001b[1;32m    347\u001b[0m         \u001b[0;32mif\u001b[0m \u001b[0mself\u001b[0m\u001b[0;34m.\u001b[0m\u001b[0m_dataset_kind\u001b[0m \u001b[0;34m==\u001b[0m \u001b[0m_DatasetKind\u001b[0m\u001b[0;34m.\u001b[0m\u001b[0mIterable\u001b[0m \u001b[0;32mand\u001b[0m\u001b[0;31m \u001b[0m\u001b[0;31m\\\u001b[0m\u001b[0;34m\u001b[0m\u001b[0;34m\u001b[0m\u001b[0m\n",
      "\u001b[0;32m/usr/local/lib/python3.7/site-packages/torch/utils/data/dataloader.py\u001b[0m in \u001b[0;36m_next_data\u001b[0;34m(self)\u001b[0m\n\u001b[1;32m    854\u001b[0m             \u001b[0;32melse\u001b[0m\u001b[0;34m:\u001b[0m\u001b[0;34m\u001b[0m\u001b[0;34m\u001b[0m\u001b[0m\n\u001b[1;32m    855\u001b[0m                 \u001b[0;32mdel\u001b[0m \u001b[0mself\u001b[0m\u001b[0;34m.\u001b[0m\u001b[0m_task_info\u001b[0m\u001b[0;34m[\u001b[0m\u001b[0midx\u001b[0m\u001b[0;34m]\u001b[0m\u001b[0;34m\u001b[0m\u001b[0;34m\u001b[0m\u001b[0m\n\u001b[0;32m--> 856\u001b[0;31m                 \u001b[0;32mreturn\u001b[0m \u001b[0mself\u001b[0m\u001b[0;34m.\u001b[0m\u001b[0m_process_data\u001b[0m\u001b[0;34m(\u001b[0m\u001b[0mdata\u001b[0m\u001b[0;34m)\u001b[0m\u001b[0;34m\u001b[0m\u001b[0;34m\u001b[0m\u001b[0m\n\u001b[0m\u001b[1;32m    857\u001b[0m \u001b[0;34m\u001b[0m\u001b[0m\n\u001b[1;32m    858\u001b[0m     \u001b[0;32mdef\u001b[0m \u001b[0m_try_put_index\u001b[0m\u001b[0;34m(\u001b[0m\u001b[0mself\u001b[0m\u001b[0;34m)\u001b[0m\u001b[0;34m:\u001b[0m\u001b[0;34m\u001b[0m\u001b[0;34m\u001b[0m\u001b[0m\n",
      "\u001b[0;32m/usr/local/lib/python3.7/site-packages/torch/utils/data/dataloader.py\u001b[0m in \u001b[0;36m_process_data\u001b[0;34m(self, data)\u001b[0m\n\u001b[1;32m    879\u001b[0m         \u001b[0mself\u001b[0m\u001b[0;34m.\u001b[0m\u001b[0m_try_put_index\u001b[0m\u001b[0;34m(\u001b[0m\u001b[0;34m)\u001b[0m\u001b[0;34m\u001b[0m\u001b[0;34m\u001b[0m\u001b[0m\n\u001b[1;32m    880\u001b[0m         \u001b[0;32mif\u001b[0m \u001b[0misinstance\u001b[0m\u001b[0;34m(\u001b[0m\u001b[0mdata\u001b[0m\u001b[0;34m,\u001b[0m \u001b[0mExceptionWrapper\u001b[0m\u001b[0;34m)\u001b[0m\u001b[0;34m:\u001b[0m\u001b[0;34m\u001b[0m\u001b[0;34m\u001b[0m\u001b[0m\n\u001b[0;32m--> 881\u001b[0;31m             \u001b[0mdata\u001b[0m\u001b[0;34m.\u001b[0m\u001b[0mreraise\u001b[0m\u001b[0;34m(\u001b[0m\u001b[0;34m)\u001b[0m\u001b[0;34m\u001b[0m\u001b[0;34m\u001b[0m\u001b[0m\n\u001b[0m\u001b[1;32m    882\u001b[0m         \u001b[0;32mreturn\u001b[0m \u001b[0mdata\u001b[0m\u001b[0;34m\u001b[0m\u001b[0;34m\u001b[0m\u001b[0m\n\u001b[1;32m    883\u001b[0m \u001b[0;34m\u001b[0m\u001b[0m\n",
      "\u001b[0;32m/usr/local/lib/python3.7/site-packages/torch/_utils.py\u001b[0m in \u001b[0;36mreraise\u001b[0;34m(self)\u001b[0m\n\u001b[1;32m    392\u001b[0m             \u001b[0;31m# (https://bugs.python.org/issue2651), so we work around it.\u001b[0m\u001b[0;34m\u001b[0m\u001b[0;34m\u001b[0m\u001b[0;34m\u001b[0m\u001b[0m\n\u001b[1;32m    393\u001b[0m             \u001b[0mmsg\u001b[0m \u001b[0;34m=\u001b[0m \u001b[0mKeyErrorMessage\u001b[0m\u001b[0;34m(\u001b[0m\u001b[0mmsg\u001b[0m\u001b[0;34m)\u001b[0m\u001b[0;34m\u001b[0m\u001b[0;34m\u001b[0m\u001b[0m\n\u001b[0;32m--> 394\u001b[0;31m         \u001b[0;32mraise\u001b[0m \u001b[0mself\u001b[0m\u001b[0;34m.\u001b[0m\u001b[0mexc_type\u001b[0m\u001b[0;34m(\u001b[0m\u001b[0mmsg\u001b[0m\u001b[0;34m)\u001b[0m\u001b[0;34m\u001b[0m\u001b[0;34m\u001b[0m\u001b[0m\n\u001b[0m",
      "\u001b[0;31mIndexError\u001b[0m: Caught IndexError in DataLoader worker process 0.\nOriginal Traceback (most recent call last):\n  File \"/usr/local/lib/python3.7/site-packages/torch/utils/data/_utils/worker.py\", line 178, in _worker_loop\n    data = fetcher.fetch(index)\n  File \"/usr/local/lib/python3.7/site-packages/torch/utils/data/_utils/fetch.py\", line 44, in fetch\n    data = [self.dataset[idx] for idx in possibly_batched_index]\n  File \"/usr/local/lib/python3.7/site-packages/torch/utils/data/_utils/fetch.py\", line 44, in <listcomp>\n    data = [self.dataset[idx] for idx in possibly_batched_index]\n  File \"/usr/local/lib/python3.7/site-packages/torch/utils/data/dataset.py\", line 257, in __getitem__\n    return self.dataset[self.indices[idx]]\n  File \"/Users/shimash/experiments/core/data/datasets/sn6.py\", line 59, in __getitem__\n    mask = self.get_mask(idx)\n  File \"/Users/shimash/experiments/core/data/datasets/sn6.py\", line 100, in get_mask\n    self.mask_list[idx][1], self.mask_list[idx][2]\n  File \"/Users/shimash/experiments/core/data/datasets/sn6.py\", line 111, in generate_mask\n    tup = (float(expression[0]), float(expression[1]))\nIndexError: list index out of range\n"
     ]
    }
   ],
   "source": [
    "iterator = iter(dataloaders[\"train\"])\n",
    "X, y = next(iterator)"
   ]
  },
  {
   "cell_type": "code",
   "execution_count": null,
   "metadata": {},
   "outputs": [],
   "source": [
    "model(X)"
   ]
  }
 ],
 "metadata": {
  "kernelspec": {
   "display_name": "Python 3.7.4 64-bit",
   "language": "python",
   "name": "python37464bit78949dbf7699434f989aee5cf613ae2f"
  },
  "language_info": {
   "codemirror_mode": {
    "name": "ipython",
    "version": 3
   },
   "file_extension": ".py",
   "mimetype": "text/x-python",
   "name": "python",
   "nbconvert_exporter": "python",
   "pygments_lexer": "ipython3",
   "version": "3.7.4"
  },
  "toc": {
   "base_numbering": 1,
   "nav_menu": {},
   "number_sections": true,
   "sideBar": true,
   "skip_h1_title": false,
   "title_cell": "Table of Contents",
   "title_sidebar": "Contents",
   "toc_cell": false,
   "toc_position": {},
   "toc_section_display": true,
   "toc_window_display": false
  },
  "varInspector": {
   "cols": {
    "lenName": 16,
    "lenType": 16,
    "lenVar": 40
   },
   "kernels_config": {
    "python": {
     "delete_cmd_postfix": "",
     "delete_cmd_prefix": "del ",
     "library": "var_list.py",
     "varRefreshCmd": "print(var_dic_list())"
    },
    "r": {
     "delete_cmd_postfix": ") ",
     "delete_cmd_prefix": "rm(",
     "library": "var_list.r",
     "varRefreshCmd": "cat(var_dic_list()) "
    }
   },
   "types_to_exclude": [
    "module",
    "function",
    "builtin_function_or_method",
    "instance",
    "_Feature"
   ],
   "window_display": false
  }
 },
 "nbformat": 4,
 "nbformat_minor": 2
}
